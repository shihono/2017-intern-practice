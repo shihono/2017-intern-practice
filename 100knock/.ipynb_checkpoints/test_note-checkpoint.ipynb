{
 "cells": [
  {
   "cell_type": "code",
   "execution_count": 3,
   "metadata": {
    "collapsed": false
   },
   "outputs": [
    {
     "name": "stdout",
     "output_type": "stream",
     "text": [
      "{'ended': True,\n",
      " 'gid': '8972b1c1-6482-4750-b51f-596d2edea8b1',\n",
      " 'id': 805192,\n",
      " 'name': 'WIK▲N',\n",
      " 'sort_name': 'WIK▲N',\n",
      " 'tags': [{'count': 1, 'value': 'sillyname'}]}\n"
     ]
    }
   ],
   "source": [
    "import sqlite3\n",
    "import json\n",
    "import pprint\n",
    "\n",
    "with open('data/artist.json','r')as f:\n",
    "    for line in f:\n",
    "        pprint.pprint(json.loads(line))\n",
    "        #print(json.loads(line))\n",
    "        break\n",
    "# traffic=json.load(open('data/artist.json'))"
   ]
  },
  {
   "cell_type": "code",
   "execution_count": 4,
   "metadata": {
    "collapsed": true
   },
   "outputs": [],
   "source": [
    "conn= sqlite3.connect('data/musician')\n",
    "c=conn.cursor()"
   ]
  },
  {
   "cell_type": "code",
   "execution_count": 6,
   "metadata": {
    "collapsed": false
   },
   "outputs": [
    {
     "data": {
      "text/plain": [
       "<sqlite3.Cursor at 0x104374030>"
      ]
     },
     "execution_count": 6,
     "metadata": {},
     "output_type": "execute_result"
    }
   ],
   "source": [
    "create_table = '''create table users (id int, name varchar(64),\n",
    "                  age int, gender varchar(32))'''\n",
    "c.execute(create_table)\n",
    "\n",
    "sql = 'insert into users (id, name, age, gender) values (?,?,?,?)'\n",
    "user = (1, 'Taro', 20, 'male')\n",
    "c.execute(sql, user)"
   ]
  },
  {
   "cell_type": "code",
   "execution_count": 7,
   "metadata": {
    "collapsed": false
   },
   "outputs": [
    {
     "name": "stdout",
     "output_type": "stream",
     "text": [
      "(1, 'Taro', 20, 'male')\n",
      "(2, 'Shota', 54, 'male')\n",
      "(3, 'Nana', 40, 'female')\n",
      "(4, 'Tooru', 78, 'male')\n",
      "(5, 'Saki', 31, 'female')\n"
     ]
    }
   ],
   "source": [
    "insert_sql = 'insert into users (id, name, age, gender) values (?,?,?,?)'\n",
    "users = [\n",
    "    (2, 'Shota', 54, 'male'),\n",
    "    (3, 'Nana', 40, 'female'),\n",
    "    (4, 'Tooru', 78, 'male'),\n",
    "    (5, 'Saki', 31, 'female')\n",
    "]\n",
    "c.executemany(insert_sql, users)\n",
    "conn.commit()\n",
    "\n",
    "select_sql = 'select * from users'\n",
    "for row in c.execute(select_sql):\n",
    "    print(row)"
   ]
  },
  {
   "cell_type": "code",
   "execution_count": 8,
   "metadata": {
    "collapsed": true
   },
   "outputs": [],
   "source": [
    "conn.close()"
   ]
  }
 ],
 "metadata": {
  "kernelspec": {
   "display_name": "Python 3",
   "language": "python",
   "name": "python3"
  },
  "language_info": {
   "codemirror_mode": {
    "name": "ipython",
    "version": 3.0
   },
   "file_extension": ".py",
   "mimetype": "text/x-python",
   "name": "python",
   "nbconvert_exporter": "python",
   "pygments_lexer": "ipython3",
   "version": "3.5.1"
  }
 },
 "nbformat": 4,
 "nbformat_minor": 0
}