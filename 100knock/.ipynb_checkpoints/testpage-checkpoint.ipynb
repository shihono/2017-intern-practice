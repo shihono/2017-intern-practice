{
 "cells": [
  {
   "cell_type": "markdown",
   "metadata": {},
   "source": [
    "## test page\n",
    "\n",
    "* json fileを扱うためのメモ書き"
   ]
  },
  {
   "cell_type": "code",
   "execution_count": 7,
   "metadata": {
    "collapsed": false
   },
   "outputs": [
    {
     "name": "stdout",
     "output_type": "stream",
     "text": [
      "{\"name\": \"WIK▲N\", \"tags\": [{\"count\": 1, \"value\": \"sillyname\"}], \"sort_name\": \"WIK▲N\", \"ended\": true, \"gid\": \"8972b1c1-6482-4750-b51f-596d2edea8b1\", \"id\": 805192}\n",
      "\n",
      "{\"name\": \"Gustav Ruppke\", \"sort_name\": \"Gustav Ruppke\", \"ended\": true, \"gid\": \"b4f76788-7e6f-41b7-ac7b-dfb67f66282e\", \"type\": \"Person\", \"id\": 578352}\n",
      "\n",
      "{\"name\": \"Pete Moutso\", \"sort_name\": \"Moutso, Pete\", \"ended\": true, \"gid\": \"49add228-eac5-4de8-836c-d75cde7369c3\", \"type\": \"Person\", \"id\": 371203}\n",
      "\n",
      "{\"ended\": true, \"gid\": \"c112a400-af49-4665-8bba-741531d962a1\", \"sort_name\": \"Zachary\", \"id\": 273232, \"name\": \"Zachary\"}\n",
      "\n",
      "{\"name\": \"The High Level Ranters\", \"sort_name\": \"High Level Ranters, The\", \"ended\": true, \"gid\": \"c42eed94-e233-44e2-82b8-3ed6dd9bf318\", \"type\": \"Group\", \"id\": 153193}\n",
      "\n",
      "{\"begin\": {\"year\": 1956}, \"end\": {\"year\": 1993}, \"name\": \"The Silhouettes\", \"area\": \"United States\", \"sort_name\": \"Silhouettes, The\", \"ended\": true, \"gid\": \"ca3f3ee1-c4a7-4bac-a16a-0b888a396c6b\", \"type\": \"Group\", \"id\": 101060, \"aliases\": [{\"name\": \"Silhouettes\", \"sort_name\": \"Silhouettes\"}, {\"name\": \"The Sihouettes\", \"sort_name\": \"The Sihouettes\"}]}\n",
      "\n",
      "{\"ended\": true, \"gid\": \"7b4a548e-a01a-49b7-82e7-b49efeb9732c\", \"sort_name\": \"Leavitt, Aric\", \"id\": 145773, \"name\": \"Aric Leavitt\"}\n",
      "\n",
      "{\"ended\": true, \"gid\": \"60aca66f-e91a-4cb5-9308-b6e293cd833e\", \"sort_name\": \"Fonograff\", \"id\": 1076328, \"name\": \"Fonograff\"}\n",
      "\n",
      "{\"name\": \"Al Street\", \"area\": \"United States\", \"gender\": \"Male\", \"sort_name\": \"Street, Al\", \"ended\": true, \"gid\": \"3e1bd546-d2a7-49cb-b38d-d70904a1d719\", \"type\": \"Person\", \"id\": 1172876}\n",
      "\n",
      "{\"ended\": true, \"gid\": \"df120895-f6c6-4a66-b9cf-73350f0beb61\", \"sort_name\": \"Love .45\", \"id\": 220155, \"name\": \"Love .45\"}\n",
      "\n",
      "0\n"
     ]
    }
   ],
   "source": [
    "import json\n",
    "# 中身を確かめる\n",
    "with open('../data/artist.json','r')as f:\n",
    "    file=f.readlines()\n",
    "    for  line in file[:10]:\n",
    "        print(line)"
   ]
  },
  {
   "cell_type": "code",
   "execution_count": 9,
   "metadata": {
    "collapsed": false
   },
   "outputs": [
    {
     "name": "stdout",
     "output_type": "stream",
     "text": [
      "921337\n"
     ]
    }
   ],
   "source": [
    "import json\n",
    "# list:artistsにjson　fileを格納\n",
    "artists=[]\n",
    "with open('../data/artist.json','r')as f:\n",
    "    file=f.readlines()\n",
    "    for  line in file:\n",
    "        artists.append(json.loads(line))\n",
    "print(len(artists))"
   ]
  },
  {
   "cell_type": "markdown",
   "metadata": {},
   "source": [
    "***\n",
    "* sqlite\n",
    "    * columnを設定する必要がある\n",
    "    * aliases,begin,end,tag,ratingは入れ子構造"
   ]
  },
  {
   "cell_type": "code",
   "execution_count": 10,
   "metadata": {
    "collapsed": false
   },
   "outputs": [
    {
     "name": "stdout",
     "output_type": "stream",
     "text": [
      "{'aliases',\n",
      " 'area',\n",
      " 'begin',\n",
      " 'end',\n",
      " 'ended',\n",
      " 'gender',\n",
      " 'gid',\n",
      " 'id',\n",
      " 'name',\n",
      " 'rating',\n",
      " 'sort_name',\n",
      " 'tags',\n",
      " 'type'}\n"
     ]
    }
   ],
   "source": [
    "import pprint\n",
    "columns=set()\n",
    "for a in artists:\n",
    "    for key in a.keys():\n",
    "        columns.add(key)\n",
    "pprint.pprint(columns)"
   ]
  },
  {
   "cell_type": "markdown",
   "metadata": {},
   "source": [
    "### sqliteに格納する\n",
    "入れ子構造\n",
    "> 対象のフィールドが辞書オブジェクトの場合はJSON文字列化をしてから、Sqlite3に格納し\n",
    "ます。\n",
    "\n",
    "* sqliteの宣言、テーブルの作成\n",
    "* for文でartistsを回して'insert into musicians (aliases, area ,....) values (?,?,?,....)'を実行\n",
    "    * artistによって入ってるvalueが異なるので一回一回指定する必要がありそう->execute()を使う"
   ]
  }
 ],
 "metadata": {
  "kernelspec": {
   "display_name": "Python 3",
   "language": "python",
   "name": "python3"
  },
  "language_info": {
   "codemirror_mode": {
    "name": "ipython",
    "version": 3
   },
   "file_extension": ".py",
   "mimetype": "text/x-python",
   "name": "python",
   "nbconvert_exporter": "python",
   "pygments_lexer": "ipython3",
   "version": "3.5.1"
  }
 },
 "nbformat": 4,
 "nbformat_minor": 0
}
